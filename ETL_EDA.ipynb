{
 "cells": [
  {
   "cell_type": "code",
   "execution_count": 1,
   "metadata": {},
   "outputs": [],
   "source": [
    "import pandas as pd\n",
    "import numpy as np\n",
    "import os"
   ]
  },
  {
   "cell_type": "code",
   "execution_count": 15,
   "metadata": {},
   "outputs": [],
   "source": [
    "# Lectura de los datasets y creación de los dataframes\n",
    "datasets = os.listdir('./datasets')\n",
    "dataframes = []\n",
    "for csv in datasets:\n",
    "    df = pd.read_csv(f'./datasets/{csv}')\n",
    "    dataframes.append(df)\n",
    "\n",
    "df_closed_deals = dataframes[0]\n",
    "df_customers = dataframes[1]\n",
    "df_geolocation = dataframes[2]\n",
    "df_marketing = dataframes[3]\n",
    "df_items = dataframes[4]\n",
    "df_order_payments = dataframes[5]\n",
    "df_order_reviews = dataframes[6]\n",
    "df_orders = dataframes[7]\n",
    "df_products = dataframes[8]\n",
    "df_sellers = dataframes[9]\n",
    "df_product_category_name_translation = dataframes[10]"
   ]
  },
  {
   "cell_type": "code",
   "execution_count": 24,
   "metadata": {},
   "outputs": [
    {
     "name": "stdout",
     "output_type": "stream",
     "text": [
      "olist_closed_deals_dataset.csv :\n",
      "mql_id                             0\n",
      "seller_id                          0\n",
      "sdr_id                             0\n",
      "sr_id                              0\n",
      "won_date                           0\n",
      "business_segment                   1\n",
      "lead_type                          6\n",
      "lead_behaviour_profile           177\n",
      "has_company                      779\n",
      "has_gtin                         778\n",
      "average_stock                    776\n",
      "business_type                     10\n",
      "declared_product_catalog_size    773\n",
      "declared_monthly_revenue           0\n",
      "dtype: int64\n",
      "olist_customers_dataset.csv :\n",
      "customer_id                 0\n",
      "customer_unique_id          0\n",
      "customer_zip_code_prefix    0\n",
      "customer_city               0\n",
      "customer_state              0\n",
      "dtype: int64\n",
      "olist_geolocation_dataset.csv :\n",
      "geolocation_zip_code_prefix    0\n",
      "geolocation_lat                0\n",
      "geolocation_lng                0\n",
      "geolocation_city               0\n",
      "geolocation_state              0\n",
      "dtype: int64\n",
      "olist_marketing_qualified_leads_dataset.csv :\n",
      "mql_id                 0\n",
      "first_contact_date     0\n",
      "landing_page_id        0\n",
      "origin                60\n",
      "dtype: int64\n",
      "olist_orders_dataset.csv :\n",
      "order_id                            0\n",
      "customer_id                         0\n",
      "order_status                        0\n",
      "order_purchase_timestamp            0\n",
      "order_approved_at                 160\n",
      "order_delivered_carrier_date     1783\n",
      "order_delivered_customer_date    2965\n",
      "order_estimated_delivery_date       0\n",
      "dtype: int64\n",
      "olist_order_items_dataset.csv :\n",
      "order_id               0\n",
      "order_item_id          0\n",
      "product_id             0\n",
      "seller_id              0\n",
      "shipping_limit_date    0\n",
      "price                  0\n",
      "freight_value          0\n",
      "dtype: int64\n",
      "olist_order_payments_dataset.csv :\n",
      "order_id                0\n",
      "payment_sequential      0\n",
      "payment_type            0\n",
      "payment_installments    0\n",
      "payment_value           0\n",
      "dtype: int64\n",
      "olist_order_reviews_dataset.csv :\n",
      "review_id                      0\n",
      "order_id                       0\n",
      "review_score                   0\n",
      "review_comment_title       87656\n",
      "review_comment_message     58247\n",
      "review_creation_date           0\n",
      "review_answer_timestamp        0\n",
      "dtype: int64\n",
      "olist_products_dataset.csv :\n",
      "product_id                      0\n",
      "product_category_name         610\n",
      "product_name_lenght           610\n",
      "product_description_lenght    610\n",
      "product_photos_qty            610\n",
      "product_weight_g                2\n",
      "product_length_cm               2\n",
      "product_height_cm               2\n",
      "product_width_cm                2\n",
      "dtype: int64\n",
      "olist_sellers_dataset.csv :\n",
      "seller_id                 0\n",
      "seller_zip_code_prefix    0\n",
      "seller_city               0\n",
      "seller_state              0\n",
      "dtype: int64\n",
      "product_category_name_translation.csv :\n",
      "product_category_name            0\n",
      "product_category_name_english    0\n",
      "dtype: int64\n"
     ]
    }
   ],
   "source": [
    "#Revisión de los datasets\n",
    "for number, df in enumerate(dataframes):\n",
    "    print(datasets[number],':')\n",
    "    print(df.isnull().sum())"
   ]
  }
 ],
 "metadata": {
  "kernelspec": {
   "display_name": "base",
   "language": "python",
   "name": "python3"
  },
  "language_info": {
   "codemirror_mode": {
    "name": "ipython",
    "version": 3
   },
   "file_extension": ".py",
   "mimetype": "text/x-python",
   "name": "python",
   "nbconvert_exporter": "python",
   "pygments_lexer": "ipython3",
   "version": "3.9.15 (main, Nov 24 2022, 14:39:17) [MSC v.1916 64 bit (AMD64)]"
  },
  "orig_nbformat": 4,
  "vscode": {
   "interpreter": {
    "hash": "a077222d77dfe082b8f1dd562ad70e458ac2ab76993a0b248ab0476e32e9e8dd"
   }
  }
 },
 "nbformat": 4,
 "nbformat_minor": 2
}
