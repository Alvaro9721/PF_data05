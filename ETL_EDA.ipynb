{
 "cells": [
  {
   "cell_type": "code",
   "execution_count": 6,
   "metadata": {},
   "outputs": [],
   "source": [
    "import pandas as pd\n",
    "import numpy as np\n",
    "import os\n",
    "\n",
    "# Lectura de los datasets y creación de los dataframes\n",
    "datasets = os.listdir('./datasets')\n",
    "dataframes = []\n",
    "for csv in datasets:\n",
    "    df = pd.read_csv(f'./datasets/{csv}')\n",
    "    dataframes.append(df)\n",
    "\n",
    "closed_deals = dataframes[0] # Yo\n",
    "customers = dataframes[1] # Yo\n",
    "geolocation = dataframes[2] # Yo\n",
    "marketing_qualified_leads = dataframes[3] # Yo\n",
    "items = dataframes[4]\n",
    "order_payments = dataframes[5]\n",
    "order_reviews = dataframes[6]\n",
    "orders = dataframes[7]\n",
    "products = dataframes[8]\n",
    "sellers = dataframes[9]\n",
    "df_product_category_name_translation = dataframes[10]"
   ]
  },
  {
   "attachments": {},
   "cell_type": "markdown",
   "metadata": {},
   "source": [
    "## Análisis de tabla \"Closed_deals\""
   ]
  },
  {
   "attachments": {},
   "cell_type": "markdown",
   "metadata": {},
   "source": [
    "### Head"
   ]
  },
  {
   "cell_type": "code",
   "execution_count": 80,
   "metadata": {},
   "outputs": [
    {
     "data": {
      "text/html": [
       "<div>\n",
       "<style scoped>\n",
       "    .dataframe tbody tr th:only-of-type {\n",
       "        vertical-align: middle;\n",
       "    }\n",
       "\n",
       "    .dataframe tbody tr th {\n",
       "        vertical-align: top;\n",
       "    }\n",
       "\n",
       "    .dataframe thead th {\n",
       "        text-align: right;\n",
       "    }\n",
       "</style>\n",
       "<table border=\"1\" class=\"dataframe\">\n",
       "  <thead>\n",
       "    <tr style=\"text-align: right;\">\n",
       "      <th></th>\n",
       "      <th>mql_id</th>\n",
       "      <th>seller_id</th>\n",
       "      <th>sdr_id</th>\n",
       "      <th>sr_id</th>\n",
       "      <th>won_date</th>\n",
       "      <th>business_segment</th>\n",
       "      <th>lead_type</th>\n",
       "      <th>lead_behaviour_profile</th>\n",
       "      <th>has_company</th>\n",
       "      <th>has_gtin</th>\n",
       "      <th>average_stock</th>\n",
       "      <th>business_type</th>\n",
       "      <th>declared_product_catalog_size</th>\n",
       "      <th>declared_monthly_revenue</th>\n",
       "    </tr>\n",
       "  </thead>\n",
       "  <tbody>\n",
       "    <tr>\n",
       "      <th>0</th>\n",
       "      <td>5420aad7fec3549a85876ba1c529bd84</td>\n",
       "      <td>2c43fb513632d29b3b58df74816f1b06</td>\n",
       "      <td>a8387c01a09e99ce014107505b92388c</td>\n",
       "      <td>4ef15afb4b2723d8f3d81e51ec7afefe</td>\n",
       "      <td>2018-02-26 19:58:54</td>\n",
       "      <td>pet</td>\n",
       "      <td>online_medium</td>\n",
       "      <td>cat</td>\n",
       "      <td>NaN</td>\n",
       "      <td>NaN</td>\n",
       "      <td>NaN</td>\n",
       "      <td>reseller</td>\n",
       "      <td>NaN</td>\n",
       "      <td>0.0</td>\n",
       "    </tr>\n",
       "    <tr>\n",
       "      <th>1</th>\n",
       "      <td>a555fb36b9368110ede0f043dfc3b9a0</td>\n",
       "      <td>bbb7d7893a450660432ea6652310ebb7</td>\n",
       "      <td>09285259593c61296eef10c734121d5b</td>\n",
       "      <td>d3d1e91a157ea7f90548eef82f1955e3</td>\n",
       "      <td>2018-05-08 20:17:59</td>\n",
       "      <td>car_accessories</td>\n",
       "      <td>industry</td>\n",
       "      <td>eagle</td>\n",
       "      <td>NaN</td>\n",
       "      <td>NaN</td>\n",
       "      <td>NaN</td>\n",
       "      <td>reseller</td>\n",
       "      <td>NaN</td>\n",
       "      <td>0.0</td>\n",
       "    </tr>\n",
       "    <tr>\n",
       "      <th>2</th>\n",
       "      <td>327174d3648a2d047e8940d7d15204ca</td>\n",
       "      <td>612170e34b97004b3ba37eae81836b4c</td>\n",
       "      <td>b90f87164b5f8c2cfa5c8572834dbe3f</td>\n",
       "      <td>6565aa9ce3178a5caf6171827af3a9ba</td>\n",
       "      <td>2018-06-05 17:27:23</td>\n",
       "      <td>home_appliances</td>\n",
       "      <td>online_big</td>\n",
       "      <td>cat</td>\n",
       "      <td>NaN</td>\n",
       "      <td>NaN</td>\n",
       "      <td>NaN</td>\n",
       "      <td>reseller</td>\n",
       "      <td>NaN</td>\n",
       "      <td>0.0</td>\n",
       "    </tr>\n",
       "    <tr>\n",
       "      <th>3</th>\n",
       "      <td>f5fee8f7da74f4887f5bcae2bafb6dd6</td>\n",
       "      <td>21e1781e36faf92725dde4730a88ca0f</td>\n",
       "      <td>56bf83c4bb35763a51c2baab501b4c67</td>\n",
       "      <td>d3d1e91a157ea7f90548eef82f1955e3</td>\n",
       "      <td>2018-01-17 13:51:03</td>\n",
       "      <td>food_drink</td>\n",
       "      <td>online_small</td>\n",
       "      <td>NaN</td>\n",
       "      <td>NaN</td>\n",
       "      <td>NaN</td>\n",
       "      <td>NaN</td>\n",
       "      <td>reseller</td>\n",
       "      <td>NaN</td>\n",
       "      <td>0.0</td>\n",
       "    </tr>\n",
       "    <tr>\n",
       "      <th>4</th>\n",
       "      <td>ffe640179b554e295c167a2f6be528e0</td>\n",
       "      <td>ed8cb7b190ceb6067227478e48cf8dde</td>\n",
       "      <td>4b339f9567d060bcea4f5136b9f5949e</td>\n",
       "      <td>d3d1e91a157ea7f90548eef82f1955e3</td>\n",
       "      <td>2018-07-03 20:17:45</td>\n",
       "      <td>home_appliances</td>\n",
       "      <td>industry</td>\n",
       "      <td>wolf</td>\n",
       "      <td>NaN</td>\n",
       "      <td>NaN</td>\n",
       "      <td>NaN</td>\n",
       "      <td>manufacturer</td>\n",
       "      <td>NaN</td>\n",
       "      <td>0.0</td>\n",
       "    </tr>\n",
       "  </tbody>\n",
       "</table>\n",
       "</div>"
      ],
      "text/plain": [
       "                             mql_id                         seller_id  \\\n",
       "0  5420aad7fec3549a85876ba1c529bd84  2c43fb513632d29b3b58df74816f1b06   \n",
       "1  a555fb36b9368110ede0f043dfc3b9a0  bbb7d7893a450660432ea6652310ebb7   \n",
       "2  327174d3648a2d047e8940d7d15204ca  612170e34b97004b3ba37eae81836b4c   \n",
       "3  f5fee8f7da74f4887f5bcae2bafb6dd6  21e1781e36faf92725dde4730a88ca0f   \n",
       "4  ffe640179b554e295c167a2f6be528e0  ed8cb7b190ceb6067227478e48cf8dde   \n",
       "\n",
       "                             sdr_id                             sr_id  \\\n",
       "0  a8387c01a09e99ce014107505b92388c  4ef15afb4b2723d8f3d81e51ec7afefe   \n",
       "1  09285259593c61296eef10c734121d5b  d3d1e91a157ea7f90548eef82f1955e3   \n",
       "2  b90f87164b5f8c2cfa5c8572834dbe3f  6565aa9ce3178a5caf6171827af3a9ba   \n",
       "3  56bf83c4bb35763a51c2baab501b4c67  d3d1e91a157ea7f90548eef82f1955e3   \n",
       "4  4b339f9567d060bcea4f5136b9f5949e  d3d1e91a157ea7f90548eef82f1955e3   \n",
       "\n",
       "              won_date business_segment      lead_type lead_behaviour_profile  \\\n",
       "0  2018-02-26 19:58:54              pet  online_medium                    cat   \n",
       "1  2018-05-08 20:17:59  car_accessories       industry                  eagle   \n",
       "2  2018-06-05 17:27:23  home_appliances     online_big                    cat   \n",
       "3  2018-01-17 13:51:03       food_drink   online_small                    NaN   \n",
       "4  2018-07-03 20:17:45  home_appliances       industry                   wolf   \n",
       "\n",
       "  has_company has_gtin average_stock business_type  \\\n",
       "0         NaN      NaN           NaN      reseller   \n",
       "1         NaN      NaN           NaN      reseller   \n",
       "2         NaN      NaN           NaN      reseller   \n",
       "3         NaN      NaN           NaN      reseller   \n",
       "4         NaN      NaN           NaN  manufacturer   \n",
       "\n",
       "   declared_product_catalog_size  declared_monthly_revenue  \n",
       "0                            NaN                       0.0  \n",
       "1                            NaN                       0.0  \n",
       "2                            NaN                       0.0  \n",
       "3                            NaN                       0.0  \n",
       "4                            NaN                       0.0  "
      ]
     },
     "execution_count": 80,
     "metadata": {},
     "output_type": "execute_result"
    }
   ],
   "source": [
    "# closed_deals.iloc[:,4:].head()\n",
    "closed_deals.head()"
   ]
  },
  {
   "attachments": {},
   "cell_type": "markdown",
   "metadata": {},
   "source": [
    "### Información de la tabla"
   ]
  },
  {
   "cell_type": "code",
   "execution_count": 87,
   "metadata": {},
   "outputs": [
    {
     "name": "stdout",
     "output_type": "stream",
     "text": [
      "<class 'pandas.core.frame.DataFrame'>\n",
      "RangeIndex: 842 entries, 0 to 841\n",
      "Data columns (total 10 columns):\n",
      " #   Column                         Non-Null Count  Dtype  \n",
      "---  ------                         --------------  -----  \n",
      " 0   won_date                       842 non-null    object \n",
      " 1   business_segment               841 non-null    object \n",
      " 2   lead_type                      836 non-null    object \n",
      " 3   lead_behaviour_profile         665 non-null    object \n",
      " 4   has_company                    63 non-null     object \n",
      " 5   has_gtin                       64 non-null     object \n",
      " 6   average_stock                  66 non-null     object \n",
      " 7   business_type                  832 non-null    object \n",
      " 8   declared_product_catalog_size  69 non-null     float64\n",
      " 9   declared_monthly_revenue       842 non-null    float64\n",
      "dtypes: float64(2), object(8)\n",
      "memory usage: 65.9+ KB\n",
      "None\n"
     ]
    }
   ],
   "source": [
    "#Info de la tabla\n",
    "print(closed_deals.iloc[:,4:].info())"
   ]
  },
  {
   "attachments": {},
   "cell_type": "markdown",
   "metadata": {},
   "source": [
    "### Nulos"
   ]
  },
  {
   "cell_type": "code",
   "execution_count": 89,
   "metadata": {},
   "outputs": [
    {
     "name": "stdout",
     "output_type": "stream",
     "text": [
      "won_date                           0\n",
      "business_segment                   1\n",
      "lead_type                          6\n",
      "lead_behaviour_profile           177\n",
      "has_company                      779\n",
      "has_gtin                         778\n",
      "average_stock                    776\n",
      "business_type                     10\n",
      "declared_product_catalog_size    773\n",
      "declared_monthly_revenue           0\n",
      "dtype: int64\n",
      "\n",
      "\n",
      "won_date                          0.000000\n",
      "business_segment                  0.118765\n",
      "lead_type                         0.712589\n",
      "lead_behaviour_profile           21.021378\n",
      "has_company                      92.517815\n",
      "has_gtin                         92.399050\n",
      "average_stock                    92.161520\n",
      "business_type                     1.187648\n",
      "declared_product_catalog_size    91.805226\n",
      "declared_monthly_revenue          0.000000\n",
      "dtype: float64\n"
     ]
    }
   ],
   "source": [
    "#Cantidad de nulos\n",
    "print(closed_deals.iloc[:,4:].isnull().sum())\n",
    "#Porcentaje de nulos\n",
    "print('\\n')\n",
    "print(closed_deals.iloc[:,4:].isnull().sum()/len(closed_deals)*100)"
   ]
  },
  {
   "attachments": {},
   "cell_type": "markdown",
   "metadata": {},
   "source": [
    "###  Columna \"business_segment\""
   ]
  },
  {
   "cell_type": "code",
   "execution_count": 106,
   "metadata": {},
   "outputs": [
    {
     "name": "stdout",
     "output_type": "stream",
     "text": [
      "['pet' 'car_accessories' 'home_appliances' 'food_drink' 'health_beauty'\n",
      " 'computers' 'household_utilities' 'construction_tools_house_garden'\n",
      " 'toys' 'sports_leisure' 'stationery' 'food_supplement' 'home_decor'\n",
      " 'bed_bath_table' 'watches' 'fashion_accessories' 'jewerly' 'party'\n",
      " 'small_appliances' 'audio_video_electronics' 'other' 'bags_backpacks'\n",
      " 'home_office_furniture' 'music_instruments' 'books' 'baby'\n",
      " 'air_conditioning' 'phone_mobile' nan 'handcrafted' 'perfume' 'gifts'\n",
      " 'religious' 'games_consoles']\n",
      "home_decor                         105\n",
      "health_beauty                       93\n",
      "car_accessories                     77\n",
      "household_utilities                 71\n",
      "construction_tools_house_garden     69\n",
      "audio_video_electronics             64\n",
      "computers                           34\n",
      "pet                                 30\n",
      "food_supplement                     28\n",
      "food_drink                          26\n",
      "sports_leisure                      25\n",
      "bed_bath_table                      22\n",
      "bags_backpacks                      22\n",
      "toys                                20\n",
      "fashion_accessories                 19\n",
      "home_office_furniture               14\n",
      "stationery                          13\n",
      "phone_mobile                        13\n",
      "small_appliances                    12\n",
      "handcrafted                         12\n",
      "baby                                10\n",
      "music_instruments                    9\n",
      "books                                9\n",
      "jewerly                              8\n",
      "watches                              8\n",
      "home_appliances                      7\n",
      "party                                5\n",
      "gifts                                5\n",
      "other                                3\n",
      "air_conditioning                     3\n",
      "perfume                              2\n",
      "games_consoles                       2\n",
      "religious                            1\n",
      "Name: business_segment, dtype: int64\n"
     ]
    }
   ],
   "source": [
    "print(closed_deals.business_segment.unique())\n",
    "print(closed_deals.business_segment.value_counts())"
   ]
  },
  {
   "attachments": {},
   "cell_type": "markdown",
   "metadata": {},
   "source": [
    "### Columna \"lead_type\""
   ]
  },
  {
   "cell_type": "code",
   "execution_count": 107,
   "metadata": {},
   "outputs": [
    {
     "name": "stdout",
     "output_type": "stream",
     "text": [
      "['online_medium' 'industry' 'online_big' 'online_small' 'offline'\n",
      " 'online_top' 'online_beginner' 'other' nan]\n",
      "online_medium      332\n",
      "online_big         126\n",
      "industry           123\n",
      "offline            104\n",
      "online_small        77\n",
      "online_beginner     57\n",
      "online_top          14\n",
      "other                3\n",
      "Name: lead_type, dtype: int64\n"
     ]
    }
   ],
   "source": [
    "print(closed_deals.lead_type.unique())\n",
    "print(closed_deals.lead_type.value_counts())"
   ]
  },
  {
   "attachments": {},
   "cell_type": "markdown",
   "metadata": {},
   "source": [
    "### Columna \"lead_behaviour_profile\""
   ]
  },
  {
   "cell_type": "code",
   "execution_count": 108,
   "metadata": {},
   "outputs": [
    {
     "name": "stdout",
     "output_type": "stream",
     "text": [
      "['cat' 'eagle' nan 'wolf' 'shark' 'cat, wolf' 'eagle, wolf' 'shark, cat'\n",
      " 'eagle, cat' 'shark, wolf']\n",
      "cat            407\n",
      "eagle          123\n",
      "wolf            95\n",
      "shark           24\n",
      "cat, wolf        8\n",
      "eagle, wolf      3\n",
      "eagle, cat       3\n",
      "shark, cat       1\n",
      "shark, wolf      1\n",
      "Name: lead_behaviour_profile, dtype: int64\n"
     ]
    }
   ],
   "source": [
    "print(closed_deals.lead_behaviour_profile.unique())\n",
    "print(closed_deals.lead_behaviour_profile.value_counts())"
   ]
  },
  {
   "attachments": {},
   "cell_type": "markdown",
   "metadata": {},
   "source": [
    "###  Columna \"has_company\""
   ]
  },
  {
   "cell_type": "code",
   "execution_count": 105,
   "metadata": {},
   "outputs": [
    {
     "name": "stdout",
     "output_type": "stream",
     "text": [
      "[nan True False]\n",
      "True     58\n",
      "False     5\n",
      "Name: has_company, dtype: int64\n"
     ]
    }
   ],
   "source": [
    "#closed_deals.iloc[:,4:].loc[closed_deals.has_company.isnull() == False].head()\n",
    "print(closed_deals.has_company.unique())\n",
    "print(closed_deals.has_company.value_counts())\n"
   ]
  },
  {
   "attachments": {},
   "cell_type": "markdown",
   "metadata": {},
   "source": [
    "###  Columna \"has_gtin\""
   ]
  },
  {
   "cell_type": "code",
   "execution_count": 109,
   "metadata": {},
   "outputs": [
    {
     "name": "stdout",
     "output_type": "stream",
     "text": [
      "[nan True False]\n",
      "True     54\n",
      "False    10\n",
      "Name: has_gtin, dtype: int64\n"
     ]
    }
   ],
   "source": [
    "print(closed_deals.has_gtin.unique())\n",
    "print(closed_deals.has_gtin.value_counts())"
   ]
  },
  {
   "attachments": {},
   "cell_type": "markdown",
   "metadata": {},
   "source": [
    "### Columna \"average_stock\""
   ]
  },
  {
   "cell_type": "code",
   "execution_count": 110,
   "metadata": {},
   "outputs": [
    {
     "name": "stdout",
     "output_type": "stream",
     "text": [
      "[nan '20-50' '1-5' '5-20' '200+' '50-200' 'unknown']\n",
      "5-20       22\n",
      "50-200     15\n",
      "1-5        10\n",
      "20-50       8\n",
      "200+        7\n",
      "unknown     4\n",
      "Name: average_stock, dtype: int64\n"
     ]
    }
   ],
   "source": [
    "print(closed_deals.average_stock.unique())\n",
    "print(closed_deals.average_stock.value_counts())"
   ]
  },
  {
   "attachments": {},
   "cell_type": "markdown",
   "metadata": {},
   "source": [
    "### Columna \"business_type\""
   ]
  },
  {
   "cell_type": "code",
   "execution_count": 116,
   "metadata": {},
   "outputs": [
    {
     "name": "stdout",
     "output_type": "stream",
     "text": [
      "['reseller' 'manufacturer' 'other' nan]\n",
      "reseller        587\n",
      "manufacturer    242\n",
      "other             3\n",
      "Name: business_type, dtype: int64\n"
     ]
    }
   ],
   "source": [
    "print(closed_deals.business_type.unique())\n",
    "print(closed_deals.business_type.value_counts())"
   ]
  },
  {
   "attachments": {},
   "cell_type": "markdown",
   "metadata": {},
   "source": [
    "### Columna \"declared_product_catalog_size\""
   ]
  },
  {
   "cell_type": "code",
   "execution_count": 112,
   "metadata": {},
   "outputs": [
    {
     "name": "stdout",
     "output_type": "stream",
     "text": [
      "[     nan 2.00e+03 8.00e+01 1.50e+01 1.20e+02 1.00e+03 5.00e+01 4.00e+00\n",
      " 4.00e+02 8.00e+02 5.00e+00 1.00e+02 3.00e+02 1.00e+01 4.00e+01 5.00e+02\n",
      " 2.00e+02 2.00e+01 1.00e+00 7.00e+01 4.50e+01 2.20e+01 3.00e+01 8.50e+01\n",
      " 7.50e+01 6.00e+02 4.70e+01 1.20e+01 7.00e+02 1.20e+03 2.00e+00 5.50e+02\n",
      " 3.05e+02 1.32e+02]\n",
      "100.0     9\n",
      "50.0      7\n",
      "300.0     5\n",
      "400.0     4\n",
      "20.0      4\n",
      "1000.0    3\n",
      "10.0      3\n",
      "30.0      2\n",
      "70.0      2\n",
      "200.0     2\n",
      "4.0       2\n",
      "40.0      2\n",
      "500.0     2\n",
      "15.0      2\n",
      "120.0     2\n",
      "600.0     1\n",
      "550.0     1\n",
      "2.0       1\n",
      "1200.0    1\n",
      "305.0     1\n",
      "700.0     1\n",
      "12.0      1\n",
      "47.0      1\n",
      "2000.0    1\n",
      "75.0      1\n",
      "85.0      1\n",
      "22.0      1\n",
      "45.0      1\n",
      "1.0       1\n",
      "80.0      1\n",
      "5.0       1\n",
      "800.0     1\n",
      "132.0     1\n",
      "Name: declared_product_catalog_size, dtype: int64\n"
     ]
    }
   ],
   "source": [
    "print(closed_deals.declared_product_catalog_size.unique())\n",
    "print(closed_deals.declared_product_catalog_size.value_counts())"
   ]
  },
  {
   "attachments": {},
   "cell_type": "markdown",
   "metadata": {},
   "source": [
    "## Análisis de tabla \"customers\""
   ]
  },
  {
   "attachments": {},
   "cell_type": "markdown",
   "metadata": {},
   "source": [
    "### Head"
   ]
  },
  {
   "cell_type": "code",
   "execution_count": 115,
   "metadata": {},
   "outputs": [
    {
     "data": {
      "text/html": [
       "<div>\n",
       "<style scoped>\n",
       "    .dataframe tbody tr th:only-of-type {\n",
       "        vertical-align: middle;\n",
       "    }\n",
       "\n",
       "    .dataframe tbody tr th {\n",
       "        vertical-align: top;\n",
       "    }\n",
       "\n",
       "    .dataframe thead th {\n",
       "        text-align: right;\n",
       "    }\n",
       "</style>\n",
       "<table border=\"1\" class=\"dataframe\">\n",
       "  <thead>\n",
       "    <tr style=\"text-align: right;\">\n",
       "      <th></th>\n",
       "      <th>customer_id</th>\n",
       "      <th>customer_unique_id</th>\n",
       "      <th>customer_zip_code_prefix</th>\n",
       "      <th>customer_city</th>\n",
       "      <th>customer_state</th>\n",
       "    </tr>\n",
       "  </thead>\n",
       "  <tbody>\n",
       "    <tr>\n",
       "      <th>0</th>\n",
       "      <td>06b8999e2fba1a1fbc88172c00ba8bc7</td>\n",
       "      <td>861eff4711a542e4b93843c6dd7febb0</td>\n",
       "      <td>14409</td>\n",
       "      <td>franca</td>\n",
       "      <td>SP</td>\n",
       "    </tr>\n",
       "    <tr>\n",
       "      <th>1</th>\n",
       "      <td>18955e83d337fd6b2def6b18a428ac77</td>\n",
       "      <td>290c77bc529b7ac935b93aa66c333dc3</td>\n",
       "      <td>9790</td>\n",
       "      <td>sao bernardo do campo</td>\n",
       "      <td>SP</td>\n",
       "    </tr>\n",
       "    <tr>\n",
       "      <th>2</th>\n",
       "      <td>4e7b3e00288586ebd08712fdd0374a03</td>\n",
       "      <td>060e732b5b29e8181a18229c7b0b2b5e</td>\n",
       "      <td>1151</td>\n",
       "      <td>sao paulo</td>\n",
       "      <td>SP</td>\n",
       "    </tr>\n",
       "    <tr>\n",
       "      <th>3</th>\n",
       "      <td>b2b6027bc5c5109e529d4dc6358b12c3</td>\n",
       "      <td>259dac757896d24d7702b9acbbff3f3c</td>\n",
       "      <td>8775</td>\n",
       "      <td>mogi das cruzes</td>\n",
       "      <td>SP</td>\n",
       "    </tr>\n",
       "    <tr>\n",
       "      <th>4</th>\n",
       "      <td>4f2d8ab171c80ec8364f7c12e35b23ad</td>\n",
       "      <td>345ecd01c38d18a9036ed96c73b8d066</td>\n",
       "      <td>13056</td>\n",
       "      <td>campinas</td>\n",
       "      <td>SP</td>\n",
       "    </tr>\n",
       "  </tbody>\n",
       "</table>\n",
       "</div>"
      ],
      "text/plain": [
       "                        customer_id                customer_unique_id  \\\n",
       "0  06b8999e2fba1a1fbc88172c00ba8bc7  861eff4711a542e4b93843c6dd7febb0   \n",
       "1  18955e83d337fd6b2def6b18a428ac77  290c77bc529b7ac935b93aa66c333dc3   \n",
       "2  4e7b3e00288586ebd08712fdd0374a03  060e732b5b29e8181a18229c7b0b2b5e   \n",
       "3  b2b6027bc5c5109e529d4dc6358b12c3  259dac757896d24d7702b9acbbff3f3c   \n",
       "4  4f2d8ab171c80ec8364f7c12e35b23ad  345ecd01c38d18a9036ed96c73b8d066   \n",
       "\n",
       "   customer_zip_code_prefix          customer_city customer_state  \n",
       "0                     14409                 franca             SP  \n",
       "1                      9790  sao bernardo do campo             SP  \n",
       "2                      1151              sao paulo             SP  \n",
       "3                      8775        mogi das cruzes             SP  \n",
       "4                     13056               campinas             SP  "
      ]
     },
     "execution_count": 115,
     "metadata": {},
     "output_type": "execute_result"
    }
   ],
   "source": [
    "customers.head()"
   ]
  },
  {
   "attachments": {},
   "cell_type": "markdown",
   "metadata": {},
   "source": [
    "### Información de la tabla"
   ]
  },
  {
   "cell_type": "code",
   "execution_count": 117,
   "metadata": {},
   "outputs": [
    {
     "name": "stdout",
     "output_type": "stream",
     "text": [
      "<class 'pandas.core.frame.DataFrame'>\n",
      "RangeIndex: 99441 entries, 0 to 99440\n",
      "Data columns (total 5 columns):\n",
      " #   Column                    Non-Null Count  Dtype \n",
      "---  ------                    --------------  ----- \n",
      " 0   customer_id               99441 non-null  object\n",
      " 1   customer_unique_id        99441 non-null  object\n",
      " 2   customer_zip_code_prefix  99441 non-null  int64 \n",
      " 3   customer_city             99441 non-null  object\n",
      " 4   customer_state            99441 non-null  object\n",
      "dtypes: int64(1), object(4)\n",
      "memory usage: 3.8+ MB\n"
     ]
    }
   ],
   "source": [
    "customers.info()"
   ]
  },
  {
   "attachments": {},
   "cell_type": "markdown",
   "metadata": {},
   "source": [
    "### Nulos"
   ]
  },
  {
   "cell_type": "code",
   "execution_count": 119,
   "metadata": {},
   "outputs": [
    {
     "name": "stdout",
     "output_type": "stream",
     "text": [
      "customer_id                 0\n",
      "customer_unique_id          0\n",
      "customer_zip_code_prefix    0\n",
      "customer_city               0\n",
      "customer_state              0\n",
      "dtype: int64\n",
      "\n",
      "\n",
      "customer_id                 0.0\n",
      "customer_unique_id          0.0\n",
      "customer_zip_code_prefix    0.0\n",
      "customer_city               0.0\n",
      "customer_state              0.0\n",
      "dtype: float64\n"
     ]
    }
   ],
   "source": [
    "#Cantidad de nulos\n",
    "print(customers.isnull().sum())\n",
    "#Porcentaje de nulos\n",
    "print('\\n')\n",
    "print(customers.isnull().sum()/len(customers)*100)"
   ]
  },
  {
   "attachments": {},
   "cell_type": "markdown",
   "metadata": {},
   "source": [
    "### Columna \"customer_zip_code_prefix\""
   ]
  },
  {
   "cell_type": "code",
   "execution_count": 120,
   "metadata": {},
   "outputs": [
    {
     "name": "stdout",
     "output_type": "stream",
     "text": [
      "[14409  9790  1151 ...  5538 74980 99043]\n",
      "22790    142\n",
      "24220    124\n",
      "22793    121\n",
      "24230    117\n",
      "22775    110\n",
      "        ... \n",
      "35698      1\n",
      "99370      1\n",
      "64808      1\n",
      "60876      1\n",
      "99043      1\n",
      "Name: customer_zip_code_prefix, Length: 14994, dtype: int64\n"
     ]
    }
   ],
   "source": [
    "print(customers.customer_zip_code_prefix.unique())\n",
    "print(customers.customer_zip_code_prefix.value_counts())"
   ]
  },
  {
   "attachments": {},
   "cell_type": "markdown",
   "metadata": {},
   "source": [
    "### Columna \"customer_city\""
   ]
  },
  {
   "cell_type": "code",
   "execution_count": 121,
   "metadata": {},
   "outputs": [
    {
     "name": "stdout",
     "output_type": "stream",
     "text": [
      "['franca' 'sao bernardo do campo' 'sao paulo' ... 'monte bonito'\n",
      " 'sao rafael' 'eugenio de castro']\n",
      "sao paulo            15540\n",
      "rio de janeiro        6882\n",
      "belo horizonte        2773\n",
      "brasilia              2131\n",
      "curitiba              1521\n",
      "                     ...  \n",
      "bequimao                 1\n",
      "andarai                  1\n",
      "vargem grande            1\n",
      "curvelandia              1\n",
      "eugenio de castro        1\n",
      "Name: customer_city, Length: 4119, dtype: int64\n"
     ]
    }
   ],
   "source": [
    "print(customers.customer_city.unique())\n",
    "print(customers.customer_city.value_counts())"
   ]
  },
  {
   "attachments": {},
   "cell_type": "markdown",
   "metadata": {},
   "source": [
    "### Columna \"customer_state\""
   ]
  },
  {
   "cell_type": "code",
   "execution_count": 122,
   "metadata": {},
   "outputs": [
    {
     "name": "stdout",
     "output_type": "stream",
     "text": [
      "['SP' 'SC' 'MG' 'PR' 'RJ' 'RS' 'PA' 'GO' 'ES' 'BA' 'MA' 'MS' 'CE' 'DF'\n",
      " 'RN' 'PE' 'MT' 'AM' 'AP' 'AL' 'RO' 'PB' 'TO' 'PI' 'AC' 'SE' 'RR']\n",
      "SP    41746\n",
      "RJ    12852\n",
      "MG    11635\n",
      "RS     5466\n",
      "PR     5045\n",
      "SC     3637\n",
      "BA     3380\n",
      "DF     2140\n",
      "ES     2033\n",
      "GO     2020\n",
      "PE     1652\n",
      "CE     1336\n",
      "PA      975\n",
      "MT      907\n",
      "MA      747\n",
      "MS      715\n",
      "PB      536\n",
      "PI      495\n",
      "RN      485\n",
      "AL      413\n",
      "SE      350\n",
      "TO      280\n",
      "RO      253\n",
      "AM      148\n",
      "AC       81\n",
      "AP       68\n",
      "RR       46\n",
      "Name: customer_state, dtype: int64\n"
     ]
    }
   ],
   "source": [
    "print(customers.customer_state.unique())\n",
    "print(customers.customer_state.value_counts())"
   ]
  },
  {
   "attachments": {},
   "cell_type": "markdown",
   "metadata": {},
   "source": [
    "## Análisis de tabla \"geolocation\""
   ]
  },
  {
   "attachments": {},
   "cell_type": "markdown",
   "metadata": {},
   "source": [
    "### Head"
   ]
  },
  {
   "cell_type": "code",
   "execution_count": 123,
   "metadata": {},
   "outputs": [
    {
     "data": {
      "text/html": [
       "<div>\n",
       "<style scoped>\n",
       "    .dataframe tbody tr th:only-of-type {\n",
       "        vertical-align: middle;\n",
       "    }\n",
       "\n",
       "    .dataframe tbody tr th {\n",
       "        vertical-align: top;\n",
       "    }\n",
       "\n",
       "    .dataframe thead th {\n",
       "        text-align: right;\n",
       "    }\n",
       "</style>\n",
       "<table border=\"1\" class=\"dataframe\">\n",
       "  <thead>\n",
       "    <tr style=\"text-align: right;\">\n",
       "      <th></th>\n",
       "      <th>geolocation_zip_code_prefix</th>\n",
       "      <th>geolocation_lat</th>\n",
       "      <th>geolocation_lng</th>\n",
       "      <th>geolocation_city</th>\n",
       "      <th>geolocation_state</th>\n",
       "    </tr>\n",
       "  </thead>\n",
       "  <tbody>\n",
       "    <tr>\n",
       "      <th>0</th>\n",
       "      <td>1037</td>\n",
       "      <td>-23.545621</td>\n",
       "      <td>-46.639292</td>\n",
       "      <td>sao paulo</td>\n",
       "      <td>SP</td>\n",
       "    </tr>\n",
       "    <tr>\n",
       "      <th>1</th>\n",
       "      <td>1046</td>\n",
       "      <td>-23.546081</td>\n",
       "      <td>-46.644820</td>\n",
       "      <td>sao paulo</td>\n",
       "      <td>SP</td>\n",
       "    </tr>\n",
       "    <tr>\n",
       "      <th>2</th>\n",
       "      <td>1046</td>\n",
       "      <td>-23.546129</td>\n",
       "      <td>-46.642951</td>\n",
       "      <td>sao paulo</td>\n",
       "      <td>SP</td>\n",
       "    </tr>\n",
       "    <tr>\n",
       "      <th>3</th>\n",
       "      <td>1041</td>\n",
       "      <td>-23.544392</td>\n",
       "      <td>-46.639499</td>\n",
       "      <td>sao paulo</td>\n",
       "      <td>SP</td>\n",
       "    </tr>\n",
       "    <tr>\n",
       "      <th>4</th>\n",
       "      <td>1035</td>\n",
       "      <td>-23.541578</td>\n",
       "      <td>-46.641607</td>\n",
       "      <td>sao paulo</td>\n",
       "      <td>SP</td>\n",
       "    </tr>\n",
       "  </tbody>\n",
       "</table>\n",
       "</div>"
      ],
      "text/plain": [
       "   geolocation_zip_code_prefix  geolocation_lat  geolocation_lng  \\\n",
       "0                         1037       -23.545621       -46.639292   \n",
       "1                         1046       -23.546081       -46.644820   \n",
       "2                         1046       -23.546129       -46.642951   \n",
       "3                         1041       -23.544392       -46.639499   \n",
       "4                         1035       -23.541578       -46.641607   \n",
       "\n",
       "  geolocation_city geolocation_state  \n",
       "0        sao paulo                SP  \n",
       "1        sao paulo                SP  \n",
       "2        sao paulo                SP  \n",
       "3        sao paulo                SP  \n",
       "4        sao paulo                SP  "
      ]
     },
     "execution_count": 123,
     "metadata": {},
     "output_type": "execute_result"
    }
   ],
   "source": [
    "geolocation.head()"
   ]
  },
  {
   "attachments": {},
   "cell_type": "markdown",
   "metadata": {},
   "source": [
    "### Información de la tabla"
   ]
  },
  {
   "cell_type": "code",
   "execution_count": 124,
   "metadata": {},
   "outputs": [
    {
     "name": "stdout",
     "output_type": "stream",
     "text": [
      "<class 'pandas.core.frame.DataFrame'>\n",
      "RangeIndex: 1000163 entries, 0 to 1000162\n",
      "Data columns (total 5 columns):\n",
      " #   Column                       Non-Null Count    Dtype  \n",
      "---  ------                       --------------    -----  \n",
      " 0   geolocation_zip_code_prefix  1000163 non-null  int64  \n",
      " 1   geolocation_lat              1000163 non-null  float64\n",
      " 2   geolocation_lng              1000163 non-null  float64\n",
      " 3   geolocation_city             1000163 non-null  object \n",
      " 4   geolocation_state            1000163 non-null  object \n",
      "dtypes: float64(2), int64(1), object(2)\n",
      "memory usage: 38.2+ MB\n"
     ]
    }
   ],
   "source": [
    "geolocation.info()"
   ]
  },
  {
   "attachments": {},
   "cell_type": "markdown",
   "metadata": {},
   "source": [
    "### Nulos"
   ]
  },
  {
   "cell_type": "code",
   "execution_count": 126,
   "metadata": {},
   "outputs": [
    {
     "name": "stdout",
     "output_type": "stream",
     "text": [
      "geolocation_zip_code_prefix    0\n",
      "geolocation_lat                0\n",
      "geolocation_lng                0\n",
      "geolocation_city               0\n",
      "geolocation_state              0\n",
      "dtype: int64\n",
      "\n",
      "\n",
      "geolocation_zip_code_prefix    0.0\n",
      "geolocation_lat                0.0\n",
      "geolocation_lng                0.0\n",
      "geolocation_city               0.0\n",
      "geolocation_state              0.0\n",
      "dtype: float64\n"
     ]
    }
   ],
   "source": [
    "#Cantidad de nulos\n",
    "print(geolocation.isnull().sum())\n",
    "#Porcentaje de nulos\n",
    "print('\\n')\n",
    "print(geolocation.isnull().sum()/len(geolocation)*100)"
   ]
  },
  {
   "attachments": {},
   "cell_type": "markdown",
   "metadata": {},
   "source": [
    "### Columna \"geolocation_zip_code_prefix\""
   ]
  },
  {
   "cell_type": "code",
   "execution_count": 129,
   "metadata": {},
   "outputs": [
    {
     "name": "stdout",
     "output_type": "stream",
     "text": [
      "[ 1037  1046  1041 ... 99910 99920 99952]\n",
      "24220    1146\n",
      "24230    1102\n",
      "38400     965\n",
      "35500     907\n",
      "11680     879\n",
      "         ... \n",
      "71750       1\n",
      "71742       1\n",
      "26475       1\n",
      "26357       1\n",
      "29826       1\n",
      "Name: geolocation_zip_code_prefix, Length: 19015, dtype: int64\n"
     ]
    }
   ],
   "source": [
    "print(geolocation.geolocation_zip_code_prefix.unique())\n",
    "print(geolocation.geolocation_zip_code_prefix.value_counts())"
   ]
  },
  {
   "attachments": {},
   "cell_type": "markdown",
   "metadata": {},
   "source": [
    "### Columna \"geolocation_lat\""
   ]
  },
  {
   "cell_type": "code",
   "execution_count": 130,
   "metadata": {},
   "outputs": [
    {
     "name": "stdout",
     "output_type": "stream",
     "text": [
      "[-23.54562128 -23.54608113 -23.54612897 ... -28.06886363 -28.06863888\n",
      " -28.38893188]\n",
      "-27.102099    314\n",
      "-23.495901    190\n",
      "-23.506049    141\n",
      "-23.490618    127\n",
      "-23.005514    102\n",
      "             ... \n",
      "-23.102130      1\n",
      "-22.895678      1\n",
      "-22.599157      1\n",
      "-22.878048      1\n",
      "-28.388932      1\n",
      "Name: geolocation_lat, Length: 717360, dtype: int64\n"
     ]
    }
   ],
   "source": [
    "print(geolocation.geolocation_lat.unique())\n",
    "print(geolocation.geolocation_lat.value_counts())"
   ]
  },
  {
   "attachments": {},
   "cell_type": "markdown",
   "metadata": {},
   "source": [
    "### Columna \"geolocation_lng\""
   ]
  },
  {
   "cell_type": "code",
   "execution_count": 131,
   "metadata": {},
   "outputs": [
    {
     "name": "stdout",
     "output_type": "stream",
     "text": [
      "[-46.63929205 -46.6448203  -46.64295148 ... -52.01296438 -52.01070525\n",
      " -51.84687132]\n",
      "-48.629613    314\n",
      "-46.874687    190\n",
      "-46.717377    141\n",
      "-46.869004    127\n",
      "-43.375964    102\n",
      "             ... \n",
      "-48.451196      1\n",
      "-48.429817      1\n",
      "-48.616300      1\n",
      "-48.425129      1\n",
      "-51.846871      1\n",
      "Name: geolocation_lng, Length: 717613, dtype: int64\n"
     ]
    }
   ],
   "source": [
    "print(geolocation.geolocation_lng.unique())\n",
    "print(geolocation.geolocation_lng.value_counts())"
   ]
  },
  {
   "attachments": {},
   "cell_type": "markdown",
   "metadata": {},
   "source": [
    "### Columna \"geolocation_city\""
   ]
  },
  {
   "cell_type": "code",
   "execution_count": 132,
   "metadata": {},
   "outputs": [
    {
     "name": "stdout",
     "output_type": "stream",
     "text": [
      "['sao paulo' 'são paulo' 'sao bernardo do campo' ... 'ciríaco' 'estação'\n",
      " 'vila lângaro']\n",
      "sao paulo               135800\n",
      "rio de janeiro           62151\n",
      "belo horizonte           27805\n",
      "são paulo                24918\n",
      "curitiba                 16593\n",
      "                         ...  \n",
      "jacuípe                      1\n",
      "mar vermelho                 1\n",
      "quebrangulo                  1\n",
      "poço das trincheiras         1\n",
      "poxim                        1\n",
      "Name: geolocation_city, Length: 8011, dtype: int64\n"
     ]
    }
   ],
   "source": [
    "print(geolocation.geolocation_city.unique())\n",
    "print(geolocation.geolocation_city.value_counts())"
   ]
  },
  {
   "attachments": {},
   "cell_type": "markdown",
   "metadata": {},
   "source": [
    "### Columna \"geolocation_state\""
   ]
  },
  {
   "cell_type": "code",
   "execution_count": 133,
   "metadata": {},
   "outputs": [
    {
     "name": "stdout",
     "output_type": "stream",
     "text": [
      "['SP' 'RN' 'AC' 'RJ' 'ES' 'MG' 'BA' 'SE' 'PE' 'AL' 'PB' 'CE' 'PI' 'MA'\n",
      " 'PA' 'AP' 'AM' 'RR' 'DF' 'GO' 'RO' 'TO' 'MT' 'MS' 'RS' 'PR' 'SC']\n",
      "SP    404268\n",
      "MG    126336\n",
      "RJ    121169\n",
      "RS     61851\n",
      "PR     57859\n",
      "SC     38328\n",
      "BA     36045\n",
      "GO     20139\n",
      "ES     16748\n",
      "PE     16432\n",
      "DF     12986\n",
      "MT     12031\n",
      "CE     11674\n",
      "PA     10853\n",
      "MS     10431\n",
      "MA      7853\n",
      "PB      5538\n",
      "RN      5041\n",
      "PI      4549\n",
      "AL      4183\n",
      "TO      3576\n",
      "SE      3563\n",
      "RO      3478\n",
      "AM      2432\n",
      "AC      1301\n",
      "AP       853\n",
      "RR       646\n",
      "Name: geolocation_state, dtype: int64\n"
     ]
    }
   ],
   "source": [
    "print(geolocation.geolocation_state.unique())\n",
    "print(geolocation.geolocation_state.value_counts())"
   ]
  },
  {
   "attachments": {},
   "cell_type": "markdown",
   "metadata": {},
   "source": [
    "## Análisis de tabla \"marketing_qualified_leads\""
   ]
  },
  {
   "attachments": {},
   "cell_type": "markdown",
   "metadata": {},
   "source": [
    "### Head"
   ]
  },
  {
   "cell_type": "code",
   "execution_count": 134,
   "metadata": {},
   "outputs": [
    {
     "data": {
      "text/html": [
       "<div>\n",
       "<style scoped>\n",
       "    .dataframe tbody tr th:only-of-type {\n",
       "        vertical-align: middle;\n",
       "    }\n",
       "\n",
       "    .dataframe tbody tr th {\n",
       "        vertical-align: top;\n",
       "    }\n",
       "\n",
       "    .dataframe thead th {\n",
       "        text-align: right;\n",
       "    }\n",
       "</style>\n",
       "<table border=\"1\" class=\"dataframe\">\n",
       "  <thead>\n",
       "    <tr style=\"text-align: right;\">\n",
       "      <th></th>\n",
       "      <th>mql_id</th>\n",
       "      <th>first_contact_date</th>\n",
       "      <th>landing_page_id</th>\n",
       "      <th>origin</th>\n",
       "    </tr>\n",
       "  </thead>\n",
       "  <tbody>\n",
       "    <tr>\n",
       "      <th>0</th>\n",
       "      <td>dac32acd4db4c29c230538b72f8dd87d</td>\n",
       "      <td>2018-02-01</td>\n",
       "      <td>88740e65d5d6b056e0cda098e1ea6313</td>\n",
       "      <td>social</td>\n",
       "    </tr>\n",
       "    <tr>\n",
       "      <th>1</th>\n",
       "      <td>8c18d1de7f67e60dbd64e3c07d7e9d5d</td>\n",
       "      <td>2017-10-20</td>\n",
       "      <td>007f9098284a86ee80ddeb25d53e0af8</td>\n",
       "      <td>paid_search</td>\n",
       "    </tr>\n",
       "    <tr>\n",
       "      <th>2</th>\n",
       "      <td>b4bc852d233dfefc5131f593b538befa</td>\n",
       "      <td>2018-03-22</td>\n",
       "      <td>a7982125ff7aa3b2054c6e44f9d28522</td>\n",
       "      <td>organic_search</td>\n",
       "    </tr>\n",
       "    <tr>\n",
       "      <th>3</th>\n",
       "      <td>6be030b81c75970747525b843c1ef4f8</td>\n",
       "      <td>2018-01-22</td>\n",
       "      <td>d45d558f0daeecf3cccdffe3c59684aa</td>\n",
       "      <td>email</td>\n",
       "    </tr>\n",
       "    <tr>\n",
       "      <th>4</th>\n",
       "      <td>5420aad7fec3549a85876ba1c529bd84</td>\n",
       "      <td>2018-02-21</td>\n",
       "      <td>b48ec5f3b04e9068441002a19df93c6c</td>\n",
       "      <td>organic_search</td>\n",
       "    </tr>\n",
       "  </tbody>\n",
       "</table>\n",
       "</div>"
      ],
      "text/plain": [
       "                             mql_id first_contact_date  \\\n",
       "0  dac32acd4db4c29c230538b72f8dd87d         2018-02-01   \n",
       "1  8c18d1de7f67e60dbd64e3c07d7e9d5d         2017-10-20   \n",
       "2  b4bc852d233dfefc5131f593b538befa         2018-03-22   \n",
       "3  6be030b81c75970747525b843c1ef4f8         2018-01-22   \n",
       "4  5420aad7fec3549a85876ba1c529bd84         2018-02-21   \n",
       "\n",
       "                    landing_page_id          origin  \n",
       "0  88740e65d5d6b056e0cda098e1ea6313          social  \n",
       "1  007f9098284a86ee80ddeb25d53e0af8     paid_search  \n",
       "2  a7982125ff7aa3b2054c6e44f9d28522  organic_search  \n",
       "3  d45d558f0daeecf3cccdffe3c59684aa           email  \n",
       "4  b48ec5f3b04e9068441002a19df93c6c  organic_search  "
      ]
     },
     "execution_count": 134,
     "metadata": {},
     "output_type": "execute_result"
    }
   ],
   "source": [
    "marketing_qualified_leads.head()"
   ]
  },
  {
   "attachments": {},
   "cell_type": "markdown",
   "metadata": {},
   "source": [
    "### Info"
   ]
  },
  {
   "cell_type": "code",
   "execution_count": 135,
   "metadata": {},
   "outputs": [
    {
     "name": "stdout",
     "output_type": "stream",
     "text": [
      "<class 'pandas.core.frame.DataFrame'>\n",
      "RangeIndex: 8000 entries, 0 to 7999\n",
      "Data columns (total 4 columns):\n",
      " #   Column              Non-Null Count  Dtype \n",
      "---  ------              --------------  ----- \n",
      " 0   mql_id              8000 non-null   object\n",
      " 1   first_contact_date  8000 non-null   object\n",
      " 2   landing_page_id     8000 non-null   object\n",
      " 3   origin              7940 non-null   object\n",
      "dtypes: object(4)\n",
      "memory usage: 250.1+ KB\n"
     ]
    }
   ],
   "source": [
    "marketing_qualified_leads.info()"
   ]
  },
  {
   "attachments": {},
   "cell_type": "markdown",
   "metadata": {},
   "source": [
    "### Nulos"
   ]
  },
  {
   "cell_type": "code",
   "execution_count": 137,
   "metadata": {},
   "outputs": [
    {
     "name": "stdout",
     "output_type": "stream",
     "text": [
      "mql_id                 0\n",
      "first_contact_date     0\n",
      "landing_page_id        0\n",
      "origin                60\n",
      "dtype: int64\n",
      "\n",
      "\n",
      "mql_id                0.00\n",
      "first_contact_date    0.00\n",
      "landing_page_id       0.00\n",
      "origin                0.75\n",
      "dtype: float64\n"
     ]
    }
   ],
   "source": [
    "#Cantidad de nulos\n",
    "print(marketing_qualified_leads.isnull().sum())\n",
    "#Porcentaje de nulos\n",
    "print('\\n')\n",
    "print(marketing_qualified_leads.isnull().sum()/len(marketing_qualified_leads)*100)"
   ]
  },
  {
   "attachments": {},
   "cell_type": "markdown",
   "metadata": {},
   "source": [
    "### Columna \"first_contact_date\""
   ]
  },
  {
   "cell_type": "code",
   "execution_count": 140,
   "metadata": {},
   "outputs": [
    {
     "name": "stdout",
     "output_type": "stream",
     "text": [
      "['2018-02-01' '2017-10-20' '2018-03-22' '2018-01-22' '2018-02-21'\n",
      " '2018-01-14' '2018-05-15' '2018-05-24' '2017-11-10' '2017-12-25'\n",
      " '2018-01-24' '2018-04-30' '2018-04-04' '2018-05-23' '2018-04-03'\n",
      " '2017-12-08' '2018-02-16' '2018-01-13' '2018-01-15' '2018-02-23'\n",
      " '2017-07-25' '2017-07-13' '2018-03-12' '2018-04-14' '2017-12-31'\n",
      " '2017-09-11' '2018-05-29' '2018-05-02' '2018-04-15' '2018-05-08'\n",
      " '2018-01-26' '2018-02-22' '2018-05-11' '2018-04-18' '2017-09-26'\n",
      " '2018-03-07' '2018-03-16' '2017-09-29' '2018-01-03' '2018-05-30'\n",
      " '2018-03-28' '2018-02-05' '2018-02-17' '2017-07-06' '2018-04-19'\n",
      " '2018-04-05' '2018-02-28' '2017-10-19' '2017-10-10' '2017-08-07'\n",
      " '2017-08-10' '2017-09-12' '2018-03-06' '2017-07-10' '2018-02-08'\n",
      " '2018-01-10' '2018-01-28' '2018-05-25' '2017-10-21' '2018-01-29'\n",
      " '2018-05-09' '2018-02-20' '2018-04-26' '2018-01-05' '2017-10-09'\n",
      " '2018-05-20' '2018-04-12' '2017-07-11' '2017-07-08' '2017-09-05'\n",
      " '2017-08-27' '2018-02-06' '2017-08-24' '2017-11-14' '2017-10-18'\n",
      " '2018-01-30' '2018-05-14' '2018-04-13' '2017-10-16' '2017-11-24'\n",
      " '2018-03-24' '2017-09-15' '2018-03-21' '2018-01-01' '2018-03-20'\n",
      " '2017-11-16' '2018-04-20' '2018-04-27' '2018-03-14' '2017-11-08'\n",
      " '2018-01-08' '2018-04-23' '2017-10-26' '2017-08-22' '2018-04-02'\n",
      " '2018-01-17' '2018-01-27' '2018-04-29' '2017-07-14' '2018-05-05'\n",
      " '2017-07-07' '2017-07-20' '2018-02-04' '2017-10-27' '2018-04-09'\n",
      " '2018-04-11' '2017-08-12' '2018-03-09' '2018-03-08' '2018-05-16'\n",
      " '2018-02-19' '2018-04-17' '2018-04-28' '2017-12-14' '2017-11-13'\n",
      " '2018-01-31' '2018-01-19' '2018-01-02' '2018-03-13' '2018-03-18'\n",
      " '2017-11-30' '2018-04-01' '2017-09-19' '2018-01-25' '2018-01-23'\n",
      " '2018-02-27' '2017-07-17' '2017-10-05' '2018-03-29' '2018-01-12'\n",
      " '2017-10-23' '2017-09-25' '2018-03-01' '2018-01-07' '2018-03-27'\n",
      " '2018-05-22' '2018-03-26' '2018-05-26' '2018-05-28' '2018-04-10'\n",
      " '2017-10-07' '2017-12-06' '2018-05-07' '2017-07-31' '2018-03-11'\n",
      " '2018-02-18' '2017-10-31' '2017-09-06' '2018-05-12' '2017-10-06'\n",
      " '2018-05-31' '2018-01-18' '2017-07-21' '2018-04-16' '2018-05-17'\n",
      " '2018-05-03' '2017-12-15' '2017-09-01' '2017-11-28' '2018-01-04'\n",
      " '2018-02-26' '2017-10-03' '2018-02-13' '2017-11-09' '2017-07-27'\n",
      " '2017-09-24' '2017-08-03' '2018-01-09' '2018-03-10' '2017-10-02'\n",
      " '2017-07-16' '2018-01-16' '2017-08-15' '2017-08-31' '2018-02-12'\n",
      " '2017-08-05' '2017-12-29' '2018-05-19' '2018-01-21' '2018-04-07'\n",
      " '2017-12-30' '2017-12-20' '2018-02-14' '2017-10-25' '2017-11-18'\n",
      " '2018-03-23' '2017-09-13' '2017-08-02' '2018-05-18' '2017-11-05'\n",
      " '2018-02-11' '2017-09-22' '2017-08-01' '2018-01-20' '2018-03-19'\n",
      " '2017-07-19' '2017-08-29' '2017-11-03' '2018-02-24' '2017-12-01'\n",
      " '2017-09-08' '2017-08-30' '2018-05-01' '2018-04-24' '2018-04-06'\n",
      " '2017-11-20' '2017-11-02' '2018-02-03' '2017-11-29' '2018-04-25'\n",
      " '2017-12-18' '2017-11-06' '2017-08-21' '2018-05-10' '2017-07-30'\n",
      " '2018-02-02' '2018-03-31' '2017-12-22' '2017-11-12' '2017-09-18'\n",
      " '2017-11-23' '2017-09-14' '2017-10-22' '2018-05-27' '2018-02-25'\n",
      " '2017-11-17' '2017-11-01' '2018-02-15' '2018-03-15' '2018-03-05'\n",
      " '2017-08-28' '2017-11-21' '2018-05-21' '2017-11-11' '2017-09-28'\n",
      " '2017-10-17' '2018-02-09' '2018-01-11' '2017-09-04' '2017-11-26'\n",
      " '2017-08-16' '2018-03-30' '2018-03-17' '2018-02-10' '2018-04-21'\n",
      " '2017-08-19' '2018-02-07' '2017-11-19' '2018-03-02' '2018-04-08'\n",
      " '2017-09-03' '2017-10-30' '2017-11-25' '2018-03-03' '2017-12-26'\n",
      " '2017-08-08' '2017-07-28' '2017-07-26' '2017-07-04' '2017-12-27'\n",
      " '2017-12-02' '2017-07-29' '2017-09-20' '2017-07-18' '2017-12-24'\n",
      " '2017-11-22' '2018-05-06' '2017-09-27' '2017-11-07' '2017-08-18'\n",
      " '2017-08-23' '2017-12-07' '2017-10-24' '2017-07-22' '2017-09-21'\n",
      " '2017-07-12' '2017-12-03' '2017-11-04' '2017-11-27' '2018-05-04'\n",
      " '2017-08-09' '2017-10-04' '2018-01-06' '2017-10-11' '2017-09-17'\n",
      " '2017-10-29' '2017-08-17' '2017-08-04' '2017-08-25' '2017-07-05'\n",
      " '2017-10-08' '2017-12-23' '2017-10-13' '2017-10-28' '2017-12-04'\n",
      " '2017-07-24' '2017-12-12' '2017-11-15' '2017-09-23' '2018-03-25'\n",
      " '2017-10-15' '2017-12-09' '2017-08-14' '2017-10-01' '2018-04-22'\n",
      " '2017-12-17' '2017-07-15' '2018-05-13' '2017-06-14' '2017-07-03'\n",
      " '2017-09-09' '2017-08-20' '2017-12-28' '2018-03-04' '2017-08-11'\n",
      " '2017-09-10' '2017-06-20' '2017-09-07' '2017-08-13' '2017-12-19'\n",
      " '2017-07-02' '2017-12-11' '2017-07-23' '2017-12-05' '2017-12-16'\n",
      " '2017-10-12' '2017-09-16' '2017-08-06' '2017-08-26' '2017-12-21'\n",
      " '2017-09-30' '2017-07-09' '2017-06-16' '2017-12-13' '2017-10-14'\n",
      " '2017-09-02']\n",
      "2018-05-02    93\n",
      "2018-05-15    76\n",
      "2018-01-22    75\n",
      "2018-02-06    71\n",
      "2018-03-26    70\n",
      "              ..\n",
      "2017-07-15     1\n",
      "2017-07-30     1\n",
      "2017-07-16     1\n",
      "2017-12-09     1\n",
      "2017-09-02     1\n",
      "Name: first_contact_date, Length: 336, dtype: int64\n"
     ]
    }
   ],
   "source": [
    "print(marketing_qualified_leads.first_contact_date.unique())\n",
    "print(marketing_qualified_leads.first_contact_date.value_counts())"
   ]
  },
  {
   "attachments": {},
   "cell_type": "markdown",
   "metadata": {},
   "source": [
    "### Columna \"landing_page_id\""
   ]
  },
  {
   "cell_type": "code",
   "execution_count": 139,
   "metadata": {},
   "outputs": [
    {
     "name": "stdout",
     "output_type": "stream",
     "text": [
      "['88740e65d5d6b056e0cda098e1ea6313' '007f9098284a86ee80ddeb25d53e0af8'\n",
      " 'a7982125ff7aa3b2054c6e44f9d28522' 'd45d558f0daeecf3cccdffe3c59684aa'\n",
      " 'b48ec5f3b04e9068441002a19df93c6c' '22c29808c4f815213303f8933030604c'\n",
      " '6a110e795dd487f1cf8d7583671987af' 'd51b0d02f063ba1d053db6d97226eec3'\n",
      " 'aeac92c0f5ae22a04ed3b746cce3a1b6' 'f017be4dbf86243af5c1ebed0cff36a2'\n",
      " '35c9b150ab36fe584c1f24fd458c453a' '2f08471dfb83baef522f952438a36f6e'\n",
      " '73f31a40697cc90a86c1273563ac230e' '1ceb590cd1e00c7ee95220971f82693d'\n",
      " 'bdaeb752e5c3caa215ebe04c61e22325' 'b76ef37428e6799c421989521c0e5077'\n",
      " '1d4ddc25ccaa2adeded340b6eda66182' '3cd2a8301d5395f21cdd3094c9eaa2f4'\n",
      " 'caef563a428392ddc7807d2a529413b9' 'ece960c5dab1a015cc1cb5a419b0c63b'\n",
      " 'd83b0d0e48c8447d1d5507a44027a955' '30534107aa0013db92899c96a1017d0b'\n",
      " '15cf89bab2c3163b4f9d8601d108f8b2' '58326e62183c14b0c03085c33b9fdc44'\n",
      " '0218f6be0b76aca72ab4d00ee9e8cf10' 'e492ee5eaf1697716985cc6f33f9cd9b'\n",
      " 'd823616cbcb84fff516db22f366caaa5' 'ea0650174e273c41e12002dcdd4708be'\n",
      " '5209e2e679d32a6619feb6942702fd14' 'ee3c3bad6ed3eb9d5de56688d1f9c91b'\n",
      " '241f79c7a8fe0270f4fb79fcbbcd17ad' 'a5f7caba65f90d45005f62cb85bced39'\n",
      " 'f98c2bd96ac4a5d9476734e790c91384' 'ef0b482996664cc1107b9051efd3ca84'\n",
      " '87732658ba41d8775e8577df347a64db' 'c2f7f172d3275d27cba772ab70ac3052'\n",
      " 'a56671a54260a44923d32c2f08fad39c' '21a104c3279681d9856b8a48723c4fee'\n",
      " 'ce1a65abd0973638f1c887a6efcfa82d' '65d9f9d71e562365e8b44037c2888d98'\n",
      " 'f80696b73d17fb34f5c4fde157f119d8' '707541550a71b1e700bbd4cf90677923'\n",
      " 'a0fbc0263cb98bdb0d72b9f9f283a172' 'c754e5846c791d26b1c34070c41adf6e'\n",
      " '30077c17f2ec5010a82e37ad8925b95f' '330b9d44078a1ae5a221d655dcb77afa'\n",
      " '40dec9f3d5259a3d2dbcdab2114fae47' 'c6f28f804cf6330e6de735ef6e6fe95c'\n",
      " '1722481ac9e5371e5099dea226b5421d' '99b00c6e27db383d844d1763dbcbfe06'\n",
      " '8a003712c92f483cef1dcb70635ebc7a' '01850876d34b43494b5f9879c366877b'\n",
      " '864a3926849a5f8043323b1a6ef0fb26' '6323b8a5b98bfda127cb1cdfd4a40fbb'\n",
      " '5ce25abc7206b8285aa756867eb2c590' 'b6885f18d203a61176418c1fb3764815'\n",
      " '686e82dd914f82d16ef05415f4419d4f' 'da14b7e2eb0d1eecf65abbd05a31c87d'\n",
      " '73fec6021437e723ff5adae8dff89e23' '9fa37f5177115156b1814ffc237402a6'\n",
      " '5da54625ee0a9560dc9b9b9f6ccb03d0' 'b250fcac4a31f0677417f892ef87f02d'\n",
      " 'fd660f5d9a62d444c76191307b3a0514' '87d670b00a8db612286ba8419cf82e83'\n",
      " 'c70eb6fb5bd6e939b0d5ef32f21f61e8' 'daa9619c6f8ed06d059265dca0f9257f'\n",
      " 'c35447dcd1a50b2e2ee3184be602b597' '36b6e21a46b7b35a459bed735785772a'\n",
      " 'f4cb9c7b1dc31afca77d4896d2ae8d4b' 'a77dcf0bf420ced5e37baae9b5daffa4'\n",
      " 'd1905a1a023dc637956eff9364c5765e' '4b0974ddecd83fd34439a7312a609824'\n",
      " '36120633c8737035fbabf079082f4ec1' '1f2ef44bd62ca960c9391166cae6fd3c'\n",
      " '733adfe409c752b5c200bf23fa2f22d0' '313edefdee4adcd34e8cbec1854ba5a9'\n",
      " 'fbc24da54d531c6204ae2d17b1090bb1' 'dcdbbb0bb43f5c9ea457a8363db87e73'\n",
      " 'e42a14209c69c3e9cc6b042620465f12' 'fb58285f6f6c4e504dfa628de116cae8'\n",
      " '346137f3e0157d94372d1cafc5675908' '1694e838dffa97f640fcfa35e86e438e'\n",
      " '5ecb50153794666e90bc04c0076b7834' 'd5559420f79579b9aa701a202c4bc7eb'\n",
      " '0f25be78376bbbaba8553051e980b83c' '97338d2165e7d6d9bc1348573a405642'\n",
      " 'bddebc4f4d44106c427bd00695840e64' '649b7b8b46b254497e92038d88f6ced8'\n",
      " '682c403426855d4a7612ff724efb404a' '82ce7345d29d3003d376f9382fc0eba0'\n",
      " '0b353d6bc27566f1d238313c33d95f56' '6404292b0f9a5594edf14be71ce4c221'\n",
      " '83ccc33d426eab8a3db70bd15aba46b8' '22218292bcb562cf33f2342d57952479'\n",
      " 'ff3416719616ad4921acb8c74e21d6f0' '721e54f5ec9978339e69dd3601713456'\n",
      " 'e534a08b23c682d94859d0ab860bd57a' 'b6cd08ac77c501fd6857f7916d2c24f3'\n",
      " 'c494978688ccf66ad9fad3d6a3338c22' '909e333f8f23574f93115bd3d402e202'\n",
      " '4aab772aeb9833c170d8ea5413e02eac' 'df99f969c517db441d373ae68b2955c9'\n",
      " 'b817df3a69949ef27ed885bfcbfd5125' '8515f4df7468489ed6bced112f86e360'\n",
      " '0b37d43dbde6452cdd94c17bf61a88e4' 'bfd05fa9f9fe2aedee539951a84f2aaf'\n",
      " 'dd6f55db3947b0aeaadb65a610334799' '6b30a13289b856b66874b3838f177744'\n",
      " 'b217afa2c1f4cb502423005639878f6d' '9496ccbb759ca86ff2b76adb4f7672a6'\n",
      " '7fa6214d82e911d070f51ef79381b956' '2228a43ac0bc372e25f9569e69fc9015'\n",
      " '0b9430edcbf2d9a95148c806af2b6699' 'dcb589befb0d245279c49c137d0afbb9'\n",
      " '447cabeecc99dc245cb42be7122cba9e' '298895230612f85f0742434fc434ad10'\n",
      " 'ef8fd2bd651e9bede81dfb6e45480793' '63a22f10d1d63d25eaf970d6a9c9df2a'\n",
      " '27cd3540bace1f4a4b2bc6d319b0553c' '4513838e626b499f475f9b488d177c55'\n",
      " '4e82dd1f6d00626bda0723eef0a269a6' '245b65531b938a173db059ad8f034482'\n",
      " '214b0943d4ad794c4086cf7e38785ef2' '872eb32141128a5320bfe7b8cf80fc14'\n",
      " '57d5edb1844a746128fd1274524b94c7' '58f8c0a253663304e348e81298bc255e'\n",
      " '3a21003b9294a4eec831bac080494843' 'e0d33c8fbfd9fe342f3449b6391b7edc'\n",
      " '358adb2fee9a122549618e46925a00a5' '0e5a178e3cd2368607f3e72f46140476'\n",
      " '1e884e3078d9978e216a027ecd57fb34' '6511fd3ad2fc59d7f907bf22b13d19e3'\n",
      " '51ecca024748b4439e473ec446c0bef5' '65c9e96d17d8d12bc0ad3b2cde0bb8b7'\n",
      " '0edc241702f5e6c046cbdbc4b5ef6a13' '42a2a1be58277f162c18bad69bcc544f'\n",
      " '3b86d7e8c33da2767ad2af9782f383d5' '898cd726567d811ec9166b950696f511'\n",
      " 'de6d03557a0274d452fc442797717b8a' '7eb40e4e44fef8bff604b621119446c7'\n",
      " 'aafc43d934a043b451b1dc5a61943a6b' '37cf94070e940a694969304de58debe1'\n",
      " 'a6daba667aa785424adbf4ae4848f753' 'a6ad0162dbe1182cd73e783d0ec1ffcf'\n",
      " '56be022a42b70a9b7e51755d3e3a4f22' 'd75a2371281f42d607be43b08bd74905'\n",
      " '966098efaef7a4d665be6b0cb617541b' '0d43fc5a5096c416d3b7b492564293da'\n",
      " '82028478fef3ab881990e8d1fb24ba3a' 'f92b00f4abed4326fcb772ad3f732f5d'\n",
      " 'c79bafc4a099ff23e3bab1534797fb45' '186132bda8b5f41c7dc834d063745d19'\n",
      " '92bd5f77d493a36dac9bddb66d1b9dbf' '8d25d9ae4ed5f78b8614b81350173e99'\n",
      " '128d8c3f32b8aa66b5bcbe4e26dfc78d' 'c555aa36478386fdf85a2d0ca5cd0ff8'\n",
      " 'cf747f07a385ddb157f79df52898ab14' 'a5155c8274e4b6d13fe0db420a60a287'\n",
      " '54d5e01ab35155d4bd8cf723fc6f04a0' 'da1a335179b8a9784d5733c7c7ada254'\n",
      " '908dad5b22342480f5cc055b8dd55e7e' '68f817c510c978e3a3a7474ad2aeb75c'\n",
      " '431a558885d03bf98bc3747f78cdfab7' '8edd4451e41e482b32035dd8e8400ff4'\n",
      " 'f03e241af08912ba7ffb65d69b0eb4d9' 'c05f0fd41e79d7811221253e0d4eadc8'\n",
      " 'c39dcc27f640ca6303e0b82341c871c8' '83bfeb1d106df88a2cde0965999161f0'\n",
      " '91dbdf987124ca09b297bd87f06b5e64' '60ea0bbb4ee471b6b99e8b892847a8db'\n",
      " '46bd119220c8bf61324669b1d82203ac' 'fa6f59a21825d841e307151460fb0302'\n",
      " '76d33b7836dd4396f9dd310392f570f8' 'b5740085c06d098b773bfb41b7122229'\n",
      " '6265f632e27ca4d14268e0cb91ebc4a4' 'c016fd3539eb32d58ae4dca01b4a2061'\n",
      " 'e964a0b7ce20d152c6ecc57c706d6291' '04a75b75d5f4f3a16b0178fbe382da00'\n",
      " 'de49b5a73de3b19b3339700fe733886c' '3f3196b43b4af9aafbe878f6a1bbc7bd'\n",
      " 'c30d0b4337fd05444a3fe502562508d1' '146e076b71a6ca8c31b34191182a313a'\n",
      " '7b8106a8b4d2982573b70980cbb01e9d' '5dc848e7dd9418dffe183215b8ff0bc1'\n",
      " '2e84ebc35438eb47630f2fae4218c9c7' '5e63931027e6805374c67e5988189028'\n",
      " 'dfeed5742a04ec1bfc9f9593b880aa12' 'fa5a0151e1f37d0055a3478fbb48827a'\n",
      " '253c51690efe34b79a8e2b516effa8cc' '4ed6bf4ac34e75c7c81fcf829d96b739'\n",
      " 'ef6ae7014c36fec7aaef615a3136b2d8' 'ecc36b943a84ebcd3ab633cbe0fb1b9b'\n",
      " 'dafec09efd4f106ce6a1ea20db24e9ac' '63355b003224fe06badbd9de99644792'\n",
      " 'e0d41e6d874fd065008378950917bca3' '2204d1cf0ec6a0cf20f7342e99d88ec8'\n",
      " '111313f5b9ceedf17ab5af7317a9f9bc' '7259b9dc88dc397f8a98ab5ce6ce0ab7'\n",
      " 'd1bad8bf984bd4d7ee08f814ca589897' '3d75f6dd34b968151b3e86c9e28f1379'\n",
      " '0a946f83fbafa9ebf3d1c1083a6d865b' 'cb049134a163b197ad8f8df03af26d63'\n",
      " '58c77ebccfe901ecb02789124bee6608' '758daa2c01d04b06f42a8aa819ad8d46'\n",
      " '71ef148e8a549ba85ca27271a3a94c26' 'a623837d6a3000b3cd020295728e8252'\n",
      " '607cb942712956d9e5cca504365378c0' '87e8cbe800fd79c7109fb24081c1c31d'\n",
      " 'd28554990d8c5273fedfde51f1f8a59d' '154e7506c0176dc761f19fa0cb4988c4'\n",
      " 'fd7d977e75d1ac5cfe6b93ffabb150b1' '82bfb9f61deccae8b25c32c318b99f56'\n",
      " 'b21580ecd6fb023c6cfc3e83123a5983' 'd7549bc9744c53d31a4a1abc7fb7b5ee'\n",
      " '6fe30070097d07349fb571579ce6c14e' '31aa231b755f09653f48e41c110c8860'\n",
      " '97a12252ce4b852ea74f6d41d009a44b' '37145c5650a33da9e6b2df70ae1aec80'\n",
      " '33009ff58323b15ce24eba767675f434' '4c4b6da00763e942beb82e36b58d4118'\n",
      " '3e2dbc66617ded5ca6a69bdb3a354d4a' '5c6c41289f4d77b9b32fb6a5e2106edb'\n",
      " '36525851387908b96e770b1ce5d79a43' '36137eeb4bf9b5f4054c5b83bef611fa'\n",
      " 'acd502dc52a068d7c4014af6d5dbcd11' 'b2f889d0e09c93c7cf240beef08ecdef'\n",
      " '09949e05e2c5fa4ba780fe27213bc575' '40acf2a9cf2fe4de391609431f40dfb7'\n",
      " '0f7f8ed9a1db8fc2a42e273972db10d4' '120ad10683075526ee1b3b00489dafec'\n",
      " 'ce7bafe02f8fb1a3f15f52a9c239d0ef' '8ff57dffc365fcb5233232fff6e6bfd0'\n",
      " '9cc4d8fda1533429ac126a2ddf4ebf11' '616767b0bfb0a97510747d8bbcc40290'\n",
      " 'e92a6f37ebb87a6bfbc569d439cf1635' 'b226889aa1cb9f4efb3c18343b7f07c0'\n",
      " '62a620c9f1f5dbe99651c2c9e369cbb0' '3c5cc1a2e1d86abfce2a16a1bcc80e26'\n",
      " '9df372c20395ad99d9cb43dfd84e305f' 'f0b4c4ef4ee243742edd86cd944574ec'\n",
      " 'eb35a69ff6fd56c8ac8cd0a3fb695de5' '657e28a0f2bb6ac7755d08066847dae1'\n",
      " '061c3918f72d289ee93d5d8a06c15c2e' '87780f7c05ecd79791bde76af663db15'\n",
      " 'b52be9379d67e7fbf3734111625cc017' '489a340e7e59e0bcbec67b4a19c1b229'\n",
      " '6744140b06a752fafd3c7e4937075ca8' '638d98a3871a7670e644fa1b69111fab'\n",
      " 'b91e936ef19215572bb05977faae1d85' 'b8cc49b19db5de8ec30f938aa3d916a9'\n",
      " '5950e5dfc73454c6d83969bb09ba7fcd' 'b51b5a040fd76d72567c599481147956'\n",
      " 'ed818923ca007fc44b6f7e47de7eb87a' '151d5575a642287261af4311d569e07c'\n",
      " '7fa6590e1b6cc9f17eb5cfdcfad63d50' '64078d75b35c1df83ebde92c7babe9d4'\n",
      " 'aab63be06a8939d2a0aefdc8d8c2fdf0' 'cb15e297b291d8ef88f2f477defaab2d'\n",
      " '5f8ff9510f85e3e9dcb1d74965bf8d48' '92df13aefec1a7292f606a4c7d4187bf'\n",
      " 'dfc3b656bac13de62e4efca322b3f2c1' '090ffa1062e6dde353c36524563acefc'\n",
      " 'd41d8cd98f00b204e9800998ecf8427e' 'e998c9a2c0e92504311cde9e43a34026'\n",
      " '3fd71e7e6cf64921740567dcfefb68cf' '5b4fa71a2749f25fe9703a7987301c23'\n",
      " '6a318eb72f69fe14f22c44abe23bdf53' '2feec85dc487b235304e69f08fed3a39'\n",
      " 'e30b6fe36d1ad2145ca4544e3362b5c1' '984caf5cd6531beb94e435db458b7cc9'\n",
      " 'e2e67cce16ad4e30e1f8962402480f17' 'a11c4a4b078821ac00177f52c59d9990'\n",
      " '32d0cd3623c4eab3ededbe84943049d2' '270c9837c3b21fb83bee9224f701f3aa'\n",
      " 'fe82aeadeaea2186478fe6353d6d5301' '24d866dcbe66afe0feee5936c5d54cac'\n",
      " 'e873d2cf0661d3eaf417b952c7147578' 'b16779a74f2b20eb9a17a785519f63a0'\n",
      " '16d718d40146b50ca7a8a045f1b06834' '3aea860a87895eee6b72f666b3d7b98a'\n",
      " '3e3371f8470ce094c7c82c09b7bd59d9' '645b2f3e4380afe5121a2a90ca732c74'\n",
      " 'cc99b45713ce89a0a569e36be200e8ca' '382c8bbbcb0aab881c1a340d390b5e32'\n",
      " '0c83f57c786a0b4a39efab23731c7ebc' '7e11885cec8e2f84909c7b365e255413'\n",
      " '6eb30e742d5ee0762fd726e9690c2a1a' 'b06203ae0aa50dc524712b1f59c85fc1'\n",
      " 'f57543dba03374705c8ea62d65808076' '5bc6da5f353093c37734eddd2eafc993'\n",
      " 'a2e36e3b44b3b692ac65005125f04db9' '425a9f1cd945cb291c58c4212654eb8d'\n",
      " 'fc4db0e1e8dfd5a305da563f9b2fc192' '1baca9df5850e5ba75545d8b2eb8d966'\n",
      " '03c7c0ace395d80182db07ae2c30f034' 'b360f694e319be64b87987476137d1a2'\n",
      " '0d6bc3c00e4e64927cae2e8d9c6a0b9b' 'ee40ded7dc801923f81ab6dbbf6e5417'\n",
      " 'ec1792990dc6ac02bb49c91875ee51fa' 'aa8af3ebe14831a7cd1b6d1383a03755'\n",
      " 'c0f9e439226ea0373a7e3c0dfe71e4f9' '166fa7410ac1923b2cf2680f79e08850'\n",
      " '0625ca637bf063abf254a66fe91fa84b' 'd1c953566a3133574fc8e3f7bc1c126b'\n",
      " '6d45066876e395f8fe89add37704b90d' 'e597d6ea31ca28a6355e2dbf5b3013ee'\n",
      " '8e3b5d566a45e76ba85c3a2e34428668' '4a295a87a340012cd5cb23cbb5e7461b'\n",
      " '67e4b3ca7fb7e6e1e24767b1a6df70fe' 'a3d84321c2ae810ea876baffd7ae050d'\n",
      " '6be62e2d792dfec1333ce271c9a1d906' 'c12c73f22a34ac35f2c45f74b55402b0'\n",
      " '90b8b59c5597af1c719d701bddb575f2' '8999524db83541c7f1ad48906d5d4b86'\n",
      " 'be7f31219be243061a39a4a158898688' 'ea4434c9a6df0098e720204ba3dbb76d'\n",
      " 'e5eaa929c6697d69cd76727daa809042' '53afa44da0f77375f9ab54c9b8d61da8'\n",
      " '142187f4dbc5f5dc401d35e896ad29f1' '10f5ac17ed7d6ee9a7d737ac1d2fcb32'\n",
      " '1ec5f5ec77c51a968271b2ca9862907d' '50f87b85a731cec08d8380b08c573ed3'\n",
      " 'dcaf9b9fe015f970d789e226c78dcc68' 'd4d53713e4dab118111608c998bd6185'\n",
      " '7f5993cdb977063bc7584810b255bc92' '375e354da26e8619e407002dde41f19c'\n",
      " '8d912d37229efff168ceba5d640cc4a1' '8f08d2ef8b9aec2ec5118fbcf7f96f11'\n",
      " '57c63d5cb72265135f694bb785d474c3' '1ee8e9027201b4aead6b5c6fa7846eee'\n",
      " '30c86954adc2eec0f2589a8bfc4c573f' 'ac7971b81b76ddd7341f4e89e1eb911e'\n",
      " '0d5837d82188e547040314b5db344a0c' '081b0e629b3899db213a23bc4e58a17d'\n",
      " 'e8461ef52596925c898d68d1c7217c4c' '6d3026b7dff03974a1e250d610ab8b36'\n",
      " '4e33f301b88ec7f40f82be48344f7a4e' '891b03aa737ba5655affab01b01435c2'\n",
      " 'fc83c311415c9f67b6c7c87cf488b9c2' '3251617f7f52477cfa4689dae4c10322'\n",
      " 'eddb68be86556f76236ecf815d32facb' '21aa3161ecfcb855e82c0ef1ebdf410d'\n",
      " '08940bbad6e96fc4e620f2d9a00b1db4' '6fc06a95ee1be694d56a0172bc2306b9'\n",
      " '80d35379df4ce2f5297acefc78f60907' 'e86b0b777206ca8a678f97428603deac'\n",
      " '5870b76c7b4ff735e08214a63fdbbecf' 'b2d69a58fe781b4a116be5368be17353'\n",
      " 'e1dede7fac8adb44db8302cef3c60e0d' '5b893796c1ea6486bc0cc23a0a0fa11b'\n",
      " '66f0eb34b1d43f33779493fc31c5d131' '2b3ba77df5d7657e8c515a1c74155b99'\n",
      " 'd56c0ae91aedcc9cfeef770826b73ec8' '8dcb4a581ceca6be2399a15de4d39048'\n",
      " 'f1ac5ca9008183011d8a8e770bcbbdbb' '9b106865e464b4ad89b1b626f2c2e1d7'\n",
      " '994afe8f6fe288d2be458c71f784ca56' '20267f479a91ac26c09f83ae13adfa1e'\n",
      " '19f7d64c187f64e4c089786e84510ff2' 'c0fa54bbdd331f215aa84b4dd86d7255'\n",
      " 'a850a8a187e36cb07a8d06700d141993' '79a85ce81ddf5daa300bb137cd81bebd'\n",
      " 'b55934770d56da868c9ae444e313caa4' '336d5ebc5436534e61d16e63ddfca327'\n",
      " 'b3346ddd5d7b2edda306d8f531e58660' 'c0fb5b3c854a4b30334892c71faa13c2'\n",
      " '34c9ef8fb69f256ff66add711305d279' '97418c38e0c00de56ce63171626fd554'\n",
      " '9c0962a42379157493ed685d19844388' '6018a468a00de93ac9bee91950c6a3d8'\n",
      " 'b649e8f33e9c3b38af415a395a446552' '8baedb6d46227facee694be5d82f2926'\n",
      " '44cb5e9f50dfa3b36e485b0f26c4fe5f' 'c5516085d771ceb51e07f0a17b337bd7'\n",
      " '3c3d58faafc86beae6e757f1470ce9f0' 'd662cbb2406577ba48384119fd62ac14'\n",
      " '515742ea988a44a8ca0ddc44ff92735f' '639b8856a99f6e208406b764ba5a7be5'\n",
      " '83355a82a9cee26f3ba2b186ddb0bbbe' '8ca8a42a9a8f1c60580ffacb121cce69'\n",
      " 'dd26cc89043f913c5441e3c88f2c26b6' '386ab4223b463542f214d97a27247329'\n",
      " '8e1f60cfb4a7def895d8baf0eec1394e' '5679ae2329cbad78cdf97737d11bad06'\n",
      " '33d93d27f43d86b4a7e89186936d8c6c' '149878f8f96bf77a1a69f88519a8fe99'\n",
      " 'd8a14bb9ac08a36af5e3221b224966ba' 'aa6c941b72ed890d9c43511f94bafab2'\n",
      " '1c19071a49fd2b43d0d4df3ff05c19c4' 'ca2cd580bff13775c778f128c7db2b41'\n",
      " '5342a9e3497ac934ce6a4e62086cfcca' '3c46fdd071e979b10c7a2ccc395e72f0'\n",
      " '38addfd5b0598e69bfa843b9c85c9a19' '294ce16d2b3c2186a805f26aa8de3ebc'\n",
      " '67215f7bc6c2a85df0711d66d514a3d9' '1d83f02bfc05b6715ef428ee0ccd78be'\n",
      " '83fb61eb103000456b0acbfa36c60ea8' 'c8d7b5ac22b15ae22e689d1227db8d96'\n",
      " '46bbd1ad032b44f18f1fb613200965a0' 'c797693346e9dcf3275d3e40bc3ddc1d'\n",
      " 'b6168f7cc29e9a2b6d9e82df0e668a87' '099ddda4feb08e89c402f2d38ca94b2e'\n",
      " 'a841af0f710cf7e340d0d43626d2e568' 'ce1542c96eaf50155d494300c7bfceb3'\n",
      " '8e198e412a2bd69038a26b35656e52a4' '9d72960ad2cfeaa46192fa3dba4e498e'\n",
      " '2cae266d756f8688d24bf43c5b5d9d84' '9a26036e9f038f248693cb8a5a1f1ddc'\n",
      " '7cae0e79bdcf71dfd512f1100219fdbc' 'c2826f1fb1ca7c1b7c7b63c1018b8ba5'\n",
      " '4e24f6443807ad2eba56754b0dc91140' 'f55ba1da3448d20e213b0a10385eac07'\n",
      " '603522877eb261ca56f4222c9a6f1db3' '282cb66cf00adbf96a4486eb4cb2431c'\n",
      " '83157507fbc1ecbd1a32bf69812e8a16' 'b4b13997af4a7b7cf940ca44c88086a3'\n",
      " '557cc18ae3b10b7fd35fbed2019910b1' 'd387e61aff60919eae0a5ef1773db0db'\n",
      " '33751088e4687d1b6b2424b9e5e67979' 'd0543cbdeb8df2ae60e7057a63bd5d39'\n",
      " '5fdaba20ee1cd0194652abb51479ddf9' 'c1dbbbd410e1721a1932b550fdcef09b'\n",
      " '1b29d3a0b89bc8da6df20e98dfac86f4' '6b1061553497d45f6ac9d3386b648a4d'\n",
      " '8fd4f7a7c343f7d0d31ae5faf51e839d' '5d85e946cb22385b94eef98af7f76cb1'\n",
      " 'a41b8b7318c4f42dbb65c277861ca89d' 'e022029a28bad406d6f3e74512ebebc2'\n",
      " 'a3c42430cd0c931fc07c918979d8baeb' 'f2297ae2d607584fb580e9947a1a9b75'\n",
      " '984c5278c0a8e3c75e41b90def1f2611' '9ee0e215ccb1661015e983e9e476dd0b'\n",
      " 'd1da19204d3ed40c6476ad7498fb3e8b' '5c517d06e51b50ae51785450e0b806d5'\n",
      " 'afff7cfc8b8e50b09fa8840a9cecd5dc' 'f08397f6bf693eef76648ea83ed2ece8'\n",
      " '3b9715bd3b57ba1727acec71ed308568' '7773bf6b17a2c98e2604b3a402f3c050'\n",
      " 'c77d415d635d56706858140ae4354e45' '2635743d5842a4475730345cf894efce'\n",
      " 'b221554b9ec12f7efb490488a053e8dc' '67f163b6f2baf0f12300d9efa4589e79'\n",
      " 'dabf7461e7b9fbcb03eb28449632f0c6' '0a252e869424c89cf3608e07399b61f6'\n",
      " 'e9e396caabf546e0ff4f747b47538192' '9c19bf493fb017f18387b466e26d6c5d'\n",
      " 'a95c02568fa55326e1cd3c09207ec4d1' 'e6f5a53f93c11dc9f418531040987730'\n",
      " '6a005efe7039a488ef82720efba1d28e' '52a08c56d3b13cb6c8ce804776423e6b'\n",
      " '7fdee983c737fb9d29dbd5c094136a97' '59d346b461701840a8ff44a94710704c'\n",
      " 'cff78f40e6cdb80bb902d9a978eb4a76' '13fa6688e41e863dcbfdb4c6112c4c86'\n",
      " '4c683c64df361d9d0ca0257aa0d80f49' 'b34c567bf9cfa6ddc40b5b0d2d9c5bc7'\n",
      " '5325ad032ef3e3d5e7dc9e1ec565fa23' '3cc38c43666a7f2faedf74d0d718ba94'\n",
      " 'c9d51cd2248b6329851dea905f8f1fac' '5071a8a3ad132bdea8de85e0c90effd1'\n",
      " '3207d4688de4e0e721272756dd4339b8' 'd498d8fea0c0458bf3553775a60e66ec'\n",
      " '90ab6406c7a390e1c8aed08045676a91' '3757ed31bc4b61f9e108bd871822c0c6'\n",
      " '1754aa3138d36ccc989ffa4362719181' 'f77960785994c89e81217aa876672703'\n",
      " 'dff49c1e54630a22f1ca28fcc02daca0' '6b6c0934205e87702519d1cce24055f9'\n",
      " 'f3d15bbce65ef706388acb3d1c637a8b' '6dca9fc31d8a95cdbcfafcc307012768'\n",
      " '8294e62844a66d67be57cfeaef455bad' 'fd7c4cdfbfb7964b441618d54f88c38b'\n",
      " '47eeb9ed8fa40de028e33449896579a1' '6ec28268c0772b612a9bc42881b8a313'\n",
      " '94472cf01c2c1ec24e24f5b0f9ca24a3' 'b634a925e3768734c5b7b2325c88a082'\n",
      " 'f5fdb03f3ee6e369a1748e300cc40cb9' '9d252fc65f999fc52b49b27d69c09450'\n",
      " '1d298480a2f10b8c7527eeb6fcf1df97' '60877a8e7a44a3ad9fe1af9359efa0dd'\n",
      " '7c95c48a62175235a4f5f58ebdfbeec5' '8b1eeb056311220fd13bb7bae8ebe596'\n",
      " '5963a9ba5d6c9af62cba5a9ac76f263d' '320669df6e03fc8a691a1a4c61c56a32'\n",
      " '8345a83d419160e69c0501b494dadfa6' '47a9f630d492167d7390ff23cf40dab6'\n",
      " 'dfd5e75bc022dc8b7388c4647d9e079f' 'c2fbb52ea85264169ad5109ee7775d06'\n",
      " '97f34946d127e73fb33c3d86ecca344c' '83f9898dfc5a0485fb93dd9f7f8bf482'\n",
      " '5215a2f4c4cb554cb18c8de3b4f06df5' 'd27094ded8d5242d4d2ba9d7e5f176b4'\n",
      " 'ffc62d6945fd1423539ec6d96326c37c' '6ec35d2451cfa0e2e1c8595ec4ad099d'\n",
      " '3683ba5726e741af4b8b02bcaef4e7b3']\n",
      "b76ef37428e6799c421989521c0e5077    912\n",
      "22c29808c4f815213303f8933030604c    883\n",
      "58326e62183c14b0c03085c33b9fdc44    495\n",
      "88740e65d5d6b056e0cda098e1ea6313    445\n",
      "ce1a65abd0973638f1c887a6efcfa82d    394\n",
      "                                   ... \n",
      "8999524db83541c7f1ad48906d5d4b86      1\n",
      "be7f31219be243061a39a4a158898688      1\n",
      "ea4434c9a6df0098e720204ba3dbb76d      1\n",
      "e5eaa929c6697d69cd76727daa809042      1\n",
      "3683ba5726e741af4b8b02bcaef4e7b3      1\n",
      "Name: landing_page_id, Length: 495, dtype: int64\n"
     ]
    }
   ],
   "source": [
    "print(marketing_qualified_leads.landing_page_id.unique())\n",
    "print(marketing_qualified_leads.landing_page_id.value_counts())"
   ]
  },
  {
   "attachments": {},
   "cell_type": "markdown",
   "metadata": {},
   "source": [
    "### Columna \"origin\""
   ]
  },
  {
   "cell_type": "code",
   "execution_count": 138,
   "metadata": {},
   "outputs": [
    {
     "name": "stdout",
     "output_type": "stream",
     "text": [
      "['social' 'paid_search' 'organic_search' 'email' 'unknown' 'referral'\n",
      " 'direct_traffic' 'display' nan 'other_publicities' 'other']\n",
      "organic_search       2296\n",
      "paid_search          1586\n",
      "social               1350\n",
      "unknown              1099\n",
      "direct_traffic        499\n",
      "email                 493\n",
      "referral              284\n",
      "other                 150\n",
      "display               118\n",
      "other_publicities      65\n",
      "Name: origin, dtype: int64\n"
     ]
    }
   ],
   "source": [
    "print(marketing_qualified_leads.origin.unique())\n",
    "print(marketing_qualified_leads.origin.value_counts())"
   ]
  }
 ],
 "metadata": {
  "kernelspec": {
   "display_name": "base",
   "language": "python",
   "name": "python3"
  },
  "language_info": {
   "codemirror_mode": {
    "name": "ipython",
    "version": 3
   },
   "file_extension": ".py",
   "mimetype": "text/x-python",
   "name": "python",
   "nbconvert_exporter": "python",
   "pygments_lexer": "ipython3",
   "version": "3.9.15"
  },
  "orig_nbformat": 4,
  "vscode": {
   "interpreter": {
    "hash": "a077222d77dfe082b8f1dd562ad70e458ac2ab76993a0b248ab0476e32e9e8dd"
   }
  }
 },
 "nbformat": 4,
 "nbformat_minor": 2
}
